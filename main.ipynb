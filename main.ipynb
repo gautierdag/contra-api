{
 "cells": [
  {
   "cell_type": "code",
   "execution_count": 1,
   "metadata": {},
   "outputs": [],
   "source": [
    "from sklearn.model_selection import train_test_split\n",
    "from sklearn.metrics import precision_recall_fscore_support, jaccard_score\n",
    "from sklearn import svm\n",
    "import os\n",
    "import pandas as pd\n",
    "import xml.etree.ElementTree as et\n",
    "import glob\n",
    "import spacy\n",
    "from collections import namedtuple\n",
    "import string"
   ]
  },
  {
   "cell_type": "code",
   "execution_count": 203,
   "metadata": {},
   "outputs": [],
   "source": [
    "nlp = spacy.load(\"en_core_web_md\", disable=[\"tagger\", \"parser\"])\n",
    "\n",
    "Pair = namedtuple(\"Pair\", [\"t\", \"h\"])\n",
    "\n",
    "# Store list of punctuation marks to ignore\n",
    "PUNCT = string.punctuation\n",
    "NEGATIONS = set(['deny','fail','never','no','nobody','not','nothing','reject',\n",
    "                 'without', 'noone', 'none', 'cannot', 'nor','n‘t', 'n’t'])\n",
    "STOP_WORDS = spacy.lang.en.stop_words.STOP_WORDS - NEGATIONS\n",
    "feat_cols = [\"w_overlap\", \"w_hyp_extra\", \"w_jaccard\", \"ne_overlap\", \"ne_hyp_extra\", 'neg', 'jc_m', 'sim']\n",
    "\n",
    "\n",
    "def preprocess_sentence(sentence):\n",
    "    \"\"\"\n",
    "    Preprocess a sentence by removing stop words and punctuations, and lemmatizing\n",
    "    Args: \n",
    "        sentence (string): full sentence string\n",
    "    Returns:\n",
    "        processed_sentence (list): list of processed tokens\n",
    "    \"\"\"\n",
    "\n",
    "    doc = nlp(sentence)\n",
    "    processed_sentence = []\n",
    "    named_entities = []\n",
    "\n",
    "    # filtering stop words and lemmatizing\n",
    "    for word in doc:\n",
    "        if (word not in STOP_WORDS and word.text not in PUNCT):\n",
    "            processed_sentence.append(word.lemma_.lower().strip())\n",
    "\n",
    "    # Named entitities recognized\n",
    "    for word in doc.ents:\n",
    "        named_entities.append(word.text.strip())\n",
    "\n",
    "    return doc, processed_sentence, named_entities\n",
    "\n",
    "\n",
    "def overlap(pair):\n",
    "    \"\"\"\n",
    "        Compute the overlap material\n",
    "        \"\"\"\n",
    "    return len(set(pair.t).intersection(pair.h))\n",
    "\n",
    "\n",
    "def hyp_extra(pair):\n",
    "    \"\"\"\n",
    "        Compute the number of words occuring in hyp but not in text\n",
    "        \"\"\"\n",
    "    return len(set(pair.h) - set(pair.t))\n",
    "\n",
    "def neg_feature(pair):\n",
    "    \"\"\"\n",
    "        Compute the number of words occuring in hyp but not in text\n",
    "    \"\"\"\n",
    "    b = 0\n",
    "    for w in pair.t:\n",
    "        if w in NEGATIONS:\n",
    "            b = 1\n",
    "    for w in pair.h:\n",
    "        if w in NEGATIONS:\n",
    "            return 0\n",
    "    return b\n",
    "\n",
    "\n",
    "def preprocess_pair(text, hyp):\n",
    "    \"\"\"\n",
    "    Preprocess pair of text and hypothesis\n",
    "    Args:\n",
    "        text (string): text sentence \n",
    "        hyp (string): hypothesis sentence to compare to text\n",
    "    Returns:\n",
    "        features (tuple): tuple of features that can be used\n",
    "            for predictions\n",
    "    \"\"\"\n",
    "    # process the text and hyp sententences\n",
    "    t_doc_obj, text_proc, text_ne = preprocess_sentence(text)\n",
    "    h_doc_obj, hyp_proc, hyp_ne = preprocess_sentence(hyp)\n",
    "\n",
    "    # get features by using preprocessed sentences\n",
    "    word_pair = Pair(text_proc, hyp_proc)\n",
    "    w_overlap = overlap(word_pair)\n",
    "    w_hyp_extra = hyp_extra(word_pair)\n",
    "\n",
    "    # jaccard similarity between the text and h\n",
    "    w_jaccard = w_overlap / (len(word_pair.t) + len(word_pair.h))\n",
    "\n",
    "    # min sim\n",
    "    w_jaccard_s = w_overlap / min((len(word_pair.t), len(word_pair.h)))\n",
    "    \n",
    "    sim = t_doc_obj.similarity(h_doc_obj)\n",
    "\n",
    "    # get features by using the named entity recognized\n",
    "    ne_pair = Pair(text_ne, hyp_ne)\n",
    "    ne_overlap = overlap(ne_pair)\n",
    "    ne_hyp_extra = hyp_extra(ne_pair)\n",
    "    \n",
    "    n = neg_feature(word_pair)\n",
    "\n",
    "    return (w_overlap, w_hyp_extra, w_jaccard, ne_overlap, ne_hyp_extra, n, w_jaccard_s, sim)"
   ]
  },
  {
   "cell_type": "code",
   "execution_count": 204,
   "metadata": {},
   "outputs": [],
   "source": [
    "def get_pandas_from_xml(xml_path):\n",
    "    \"\"\"\n",
    "    Parses the RET datasets to return a pandas dataframe\n",
    "    Args:\n",
    "        xml_path (string): path at which xml file is stored\n",
    "    Returns:\n",
    "        out_df (pd.DataFrame): dataframe containing dataset extracted from xml\n",
    "    \"\"\"\n",
    "    xtree = et.parse(xml_path)\n",
    "    xroot = xtree.getroot()\n",
    "    df_cols = [\"id\", \"t\", \"h\", \"entailment\", \"task\"]\n",
    "    out_df = pd.DataFrame(columns=df_cols)\n",
    "\n",
    "    # map labels to desired categories\n",
    "    threeway_dict = {\"YES\": \"AGREE\", \"NO\": \"CONTRADICTS\", \"UNKNOWN\": \"UNRELATED\"}\n",
    "    contra_dict = {\"YES\": \"CONTRADICTS\", \"NO\": \"UNRELATED\"}\n",
    "\n",
    "    for node in xroot:\n",
    "        node_t = node.find(\"t\").text\n",
    "        node_h = node.find(\"h\").text\n",
    "        node_id = node.attrib.get(\"id\")\n",
    "\n",
    "        if node.attrib.get(\"entailment\") is not None:\n",
    "            node_entailement = threeway_dict[node.attrib.get(\"entailment\")]\n",
    "        else:\n",
    "            # In the case of using the contradiction dataset\n",
    "            # In terms of 3-way decision, the contradiction=\"YES\" items\n",
    "            # should be mapped to entailment=\"NO\",\n",
    "            # and the contradiction=\"NO\" to entailment=\"UNKNOWN\".\n",
    "            node_entailement = contra_dict[node.attrib.get(\"contradiction\")]\n",
    "\n",
    "        if node.attrib.get(\"task\") is not None:\n",
    "            node_task = node.attrib.get(\"task\")\n",
    "        elif node.attrib.get(\"type\") is not None:\n",
    "            node_task = node.attrib.get(\"type\")\n",
    "        else:\n",
    "            node_task = \"missing\"\n",
    "\n",
    "        out_df = out_df.append(\n",
    "            pd.Series(\n",
    "                [node_id, node_t, node_h, node_entailement, node_task], index=df_cols\n",
    "            ),\n",
    "            ignore_index=True,\n",
    "        )\n",
    "\n",
    "    return out_df\n",
    "\n",
    "\n",
    "def process_dataset(pd_df):\n",
    "    \"\"\"\n",
    "    Process a pandas dataset and return the pandas df \n",
    "    with new columns for features and processed pair\n",
    "    \"\"\"\n",
    "    pd_df[\"entailment\"] = pd_df[\"entailment\"].astype(\"category\")\n",
    "    proc_pairs = [\n",
    "        preprocess_pair(t, h) for t, h in zip(list(pd_df[\"t\"]), list(pd_df[\"h\"]))\n",
    "    ]\n",
    "    features_pd = pd.DataFrame(proc_pairs, columns=feat_cols)\n",
    "    pd_df = pd.concat([pd_df, features_pd], axis=1, sort=False)\n",
    "    return pd_df\n",
    "\n",
    "\n",
    "def get_dataset():\n",
    "    \"\"\"\n",
    "    Get a dataset based on all the xml dataset files\n",
    "    \"\"\"\n",
    "    all_files = glob.glob(\"datasets/*\")\n",
    "    all_dfs = []\n",
    "    for f in all_files:\n",
    "        temp_pd = get_pandas_from_xml(f)\n",
    "        temp_pd = process_dataset(temp_pd)\n",
    "        all_dfs.append(temp_pd)\n",
    "    dataset = pd.concat(all_dfs, axis=0, sort=False)\n",
    "    return dataset\n"
   ]
  },
  {
   "cell_type": "code",
   "execution_count": null,
   "metadata": {},
   "outputs": [],
   "source": []
  },
  {
   "cell_type": "code",
   "execution_count": 205,
   "metadata": {},
   "outputs": [
    {
     "name": "stdout",
     "output_type": "stream",
     "text": [
      "CPU times: user 38.4 s, sys: 409 ms, total: 38.8 s\n",
      "Wall time: 39.2 s\n"
     ]
    }
   ],
   "source": [
    "%%time \n",
    "dataset = get_dataset()"
   ]
  },
  {
   "cell_type": "code",
   "execution_count": 206,
   "metadata": {},
   "outputs": [
    {
     "data": {
      "text/html": [
       "<div>\n",
       "<style scoped>\n",
       "    .dataframe tbody tr th:only-of-type {\n",
       "        vertical-align: middle;\n",
       "    }\n",
       "\n",
       "    .dataframe tbody tr th {\n",
       "        vertical-align: top;\n",
       "    }\n",
       "\n",
       "    .dataframe thead th {\n",
       "        text-align: right;\n",
       "    }\n",
       "</style>\n",
       "<table border=\"1\" class=\"dataframe\">\n",
       "  <thead>\n",
       "    <tr style=\"text-align: right;\">\n",
       "      <th></th>\n",
       "      <th>id</th>\n",
       "      <th>t</th>\n",
       "      <th>h</th>\n",
       "      <th>entailment</th>\n",
       "      <th>task</th>\n",
       "      <th>w_overlap</th>\n",
       "      <th>w_hyp_extra</th>\n",
       "      <th>w_jaccard</th>\n",
       "      <th>ne_overlap</th>\n",
       "      <th>ne_hyp_extra</th>\n",
       "      <th>neg</th>\n",
       "      <th>jc_m</th>\n",
       "      <th>sim</th>\n",
       "    </tr>\n",
       "  </thead>\n",
       "  <tbody>\n",
       "    <tr>\n",
       "      <th>0</th>\n",
       "      <td>3</td>\n",
       "      <td>ECB spokeswoman, Regina Schueller, declined to...</td>\n",
       "      <td>Regina Shueller works for Italy's La Repubblic...</td>\n",
       "      <td>CONTRADICTS</td>\n",
       "      <td>IE</td>\n",
       "      <td>6</td>\n",
       "      <td>3</td>\n",
       "      <td>0.136364</td>\n",
       "      <td>2</td>\n",
       "      <td>1</td>\n",
       "      <td>0</td>\n",
       "      <td>0.666667</td>\n",
       "      <td>0.768258</td>\n",
       "    </tr>\n",
       "    <tr>\n",
       "      <th>1</th>\n",
       "      <td>4</td>\n",
       "      <td>Meanwhile, in an exclusive interview with a TI...</td>\n",
       "      <td>Ahmedinejad was attacked by the US, France, Br...</td>\n",
       "      <td>UNRELATED</td>\n",
       "      <td>IE</td>\n",
       "      <td>8</td>\n",
       "      <td>2</td>\n",
       "      <td>0.121212</td>\n",
       "      <td>4</td>\n",
       "      <td>1</td>\n",
       "      <td>0</td>\n",
       "      <td>0.800000</td>\n",
       "      <td>0.862379</td>\n",
       "    </tr>\n",
       "    <tr>\n",
       "      <th>2</th>\n",
       "      <td>11</td>\n",
       "      <td>The chaotic situation unleashed in Bogota last...</td>\n",
       "      <td>Justice Carlos Valencia was killed on 28 July.</td>\n",
       "      <td>CONTRADICTS</td>\n",
       "      <td>IE</td>\n",
       "      <td>6</td>\n",
       "      <td>2</td>\n",
       "      <td>0.146341</td>\n",
       "      <td>2</td>\n",
       "      <td>0</td>\n",
       "      <td>0</td>\n",
       "      <td>0.750000</td>\n",
       "      <td>0.868222</td>\n",
       "    </tr>\n",
       "    <tr>\n",
       "      <th>3</th>\n",
       "      <td>12</td>\n",
       "      <td>He met U.S. President, George W. Bush, in Wash...</td>\n",
       "      <td>Washington is part of London.</td>\n",
       "      <td>UNRELATED</td>\n",
       "      <td>IE</td>\n",
       "      <td>2</td>\n",
       "      <td>3</td>\n",
       "      <td>0.090909</td>\n",
       "      <td>2</td>\n",
       "      <td>0</td>\n",
       "      <td>0</td>\n",
       "      <td>0.400000</td>\n",
       "      <td>0.788237</td>\n",
       "    </tr>\n",
       "    <tr>\n",
       "      <th>4</th>\n",
       "      <td>13</td>\n",
       "      <td>Sunday's earthquake was felt in the southern I...</td>\n",
       "      <td>The city of Madras is located in Southern India.</td>\n",
       "      <td>AGREE</td>\n",
       "      <td>IE</td>\n",
       "      <td>8</td>\n",
       "      <td>1</td>\n",
       "      <td>0.156863</td>\n",
       "      <td>1</td>\n",
       "      <td>1</td>\n",
       "      <td>0</td>\n",
       "      <td>0.888889</td>\n",
       "      <td>0.906983</td>\n",
       "    </tr>\n",
       "  </tbody>\n",
       "</table>\n",
       "</div>"
      ],
      "text/plain": [
       "   id                                                  t  \\\n",
       "0   3  ECB spokeswoman, Regina Schueller, declined to...   \n",
       "1   4  Meanwhile, in an exclusive interview with a TI...   \n",
       "2  11  The chaotic situation unleashed in Bogota last...   \n",
       "3  12  He met U.S. President, George W. Bush, in Wash...   \n",
       "4  13  Sunday's earthquake was felt in the southern I...   \n",
       "\n",
       "                                                   h   entailment task  \\\n",
       "0  Regina Shueller works for Italy's La Repubblic...  CONTRADICTS   IE   \n",
       "1  Ahmedinejad was attacked by the US, France, Br...    UNRELATED   IE   \n",
       "2     Justice Carlos Valencia was killed on 28 July.  CONTRADICTS   IE   \n",
       "3                      Washington is part of London.    UNRELATED   IE   \n",
       "4   The city of Madras is located in Southern India.        AGREE   IE   \n",
       "\n",
       "   w_overlap  w_hyp_extra  w_jaccard  ne_overlap  ne_hyp_extra  neg      jc_m  \\\n",
       "0          6            3   0.136364           2             1    0  0.666667   \n",
       "1          8            2   0.121212           4             1    0  0.800000   \n",
       "2          6            2   0.146341           2             0    0  0.750000   \n",
       "3          2            3   0.090909           2             0    0  0.400000   \n",
       "4          8            1   0.156863           1             1    0  0.888889   \n",
       "\n",
       "        sim  \n",
       "0  0.768258  \n",
       "1  0.862379  \n",
       "2  0.868222  \n",
       "3  0.788237  \n",
       "4  0.906983  "
      ]
     },
     "execution_count": 206,
     "metadata": {},
     "output_type": "execute_result"
    }
   ],
   "source": [
    "dataset.head()"
   ]
  },
  {
   "cell_type": "code",
   "execution_count": 207,
   "metadata": {},
   "outputs": [],
   "source": [
    "# sum(dataset['anto'].values)"
   ]
  },
  {
   "cell_type": "code",
   "execution_count": 208,
   "metadata": {},
   "outputs": [
    {
     "data": {
      "image/png": "[encoded data removed]",
      "text/plain": [
       "<Figure size 432x288 with 1 Axes>"
      ]
     },
     "metadata": {
      "needs_background": "light"
     },
     "output_type": "display_data"
    }
   ],
   "source": [
    "import seaborn as sns\n",
    "import matplotlib.pyplot as plt\n",
    "\n",
    "ax = dataset['entailment'].value_counts().plot(kind='bar')\n",
    "ax.set_title(\"Distribution of Labels\")\n",
    "plt.show()"
   ]
  },
  {
   "cell_type": "code",
   "execution_count": 209,
   "metadata": {},
   "outputs": [],
   "source": [
    "import numpy as np\n",
    "np.random.seed(42) \n",
    "train, test = train_test_split(dataset, stratify=dataset['entailment'])"
   ]
  },
  {
   "cell_type": "code",
   "execution_count": 210,
   "metadata": {},
   "outputs": [
    {
     "name": "stdout",
     "output_type": "stream",
     "text": [
      "Precision: 0.5892041581582541 \tRecall: 0.42155828137377455\tF1-Score: 0.37922776603116076 \tMean Accuracy: 0.4964\n"
     ]
    }
   ],
   "source": [
    "feat_cols = [\"w_overlap\", \"w_hyp_extra\", \"w_jaccard\", \"ne_overlap\", \"ne_hyp_extra\", 'neg', 'jc_m', 'sim']\n",
    "clf = LogisticRegression(random_state=0, multi_class='auto', solver='lbfgs', max_iter=1000)\n",
    "clf.fit(train[feat_cols], train['entailment'])  \n",
    "y_pred = clf.predict(test[feat_cols])\n",
    "precision, recall, fscore, _ = precision_recall_fscore_support(test['entailment'], y_pred)\n",
    "print(\"Precision: {} \\tRecall: {}\\tF1-Score: {} \\tMean Accuracy: {}\".format(precision.mean(), \n",
    "                                                                            recall.mean(), \n",
    "                                                                            fscore.mean(), \n",
    "                                                                            round(clf.score(test[feat_cols],\n",
    "                                                                                            test['entailment']), 4)))\n"
   ]
  },
  {
   "cell_type": "code",
   "execution_count": 212,
   "metadata": {},
   "outputs": [
    {
     "name": "stdout",
     "output_type": "stream",
     "text": [
      "Precision: 0.32719890579733557 \tRecall: 0.41311034983358114\tF1-Score: 0.36232769520083524 \tMean Accuracy: 0.4907\n"
     ]
    }
   ],
   "source": [
    "feat_cols = [\"w_overlap\", \"w_hyp_extra\", \"w_jaccard\", 'neg']\n",
    "clf = LogisticRegression(random_state=55, multi_class='ovr', solver='lbfgs')\n",
    "clf.fit(train[feat_cols], train['entailment'])  \n",
    "y_pred = clf.predict(test[feat_cols])\n",
    "precision, recall, fscore, _ = precision_recall_fscore_support(test['entailment'], y_pred)\n",
    "print(\"Precision: {} \\tRecall: {}\\tF1-Score: {} \\tMean Accuracy: {}\".format(precision.mean(), \n",
    "                                                                            recall.mean(), \n",
    "                                                                            fscore.mean(), \n",
    "                                                                            round(clf.score(test[feat_cols],\n",
    "                                                                                            test['entailment']), 4)))\n",
    "\n"
   ]
  },
  {
   "cell_type": "markdown",
   "metadata": {},
   "source": [
    "# Testing different classifiers"
   ]
  },
  {
   "cell_type": "code",
   "execution_count": 213,
   "metadata": {},
   "outputs": [],
   "source": [
    "from sklearn.linear_model import LogisticRegression\n",
    "from sklearn.ensemble import RandomForestClassifier\n",
    "from sklearn.svm import LinearSVC\n",
    "from sklearn.neural_network import MLPClassifier\n",
    "\n",
    "from sklearn.model_selection import cross_val_score\n",
    "\n",
    "models = [\n",
    "    RandomForestClassifier(n_estimators=200, max_depth=3, random_state=0),\n",
    "    LogisticRegression(random_state=0, multi_class='ovr', solver='lbfgs'),\n",
    "    MLPClassifier(max_iter=10000)\n",
    "]\n",
    "CV = 10\n",
    "cv_df = pd.DataFrame(index=range(CV * len(models)))\n",
    "entries = []\n",
    "for model in models:\n",
    "    model_name = model.__class__.__name__\n",
    "    accuracies = cross_val_score(model, train[feat_cols], train['entailment'], scoring='accuracy', cv=CV)\n",
    "    for fold_idx, accuracy in enumerate(accuracies):\n",
    "        entries.append((model_name, fold_idx, accuracy))\n",
    "\n",
    "cv_df = pd.DataFrame(entries, columns=['model_name', 'fold_idx', 'accuracy'])"
   ]
  },
  {
   "cell_type": "code",
   "execution_count": 214,
   "metadata": {},
   "outputs": [
    {
     "data": {
      "image/png": "[encoded data removed]",
      "text/plain": [
       "<Figure size 828x396 with 1 Axes>"
      ]
     },
     "metadata": {
      "needs_background": "light"
     },
     "output_type": "display_data"
    }
   ],
   "source": [
    "plt.rcParams.update({'font.size': 15})\n",
    "\n",
    "sns.boxplot(x='model_name', y='accuracy', data=cv_df)\n",
    "sns.stripplot(x='model_name', y='accuracy', data=cv_df, \n",
    "              size=8, jitter=True, edgecolor=\"gray\", linewidth=2)\n",
    "\n",
    "fig = plt.gcf()\n",
    "fig.set_size_inches(11.5, 5.5)\n",
    "plt.show()"
   ]
  },
  {
   "cell_type": "code",
   "execution_count": 86,
   "metadata": {},
   "outputs": [
    {
     "data": {
      "text/plain": [
       "(['red', 'fox', 'not', 'jump', 'lazy', 'dog'], [])"
      ]
     },
     "execution_count": 86,
     "metadata": {},
     "output_type": "execute_result"
    }
   ],
   "source": [
    "preprocess_sentence(\"The red fox did not jump over the lazy dog\")"
   ]
  },
  {
   "cell_type": "code",
   "execution_count": 78,
   "metadata": {},
   "outputs": [
    {
     "name": "stdout",
     "output_type": "stream",
     "text": [
      "The\n",
      "did\n",
      "over\n",
      "the\n",
      "['red', 'fox', 'not', 'jump', 'lazy', 'dog']\n"
     ]
    }
   ],
   "source": []
  },
  {
   "cell_type": "code",
   "execution_count": 115,
   "metadata": {},
   "outputs": [
    {
     "name": "stdout",
     "output_type": "stream",
     "text": [
      "{'goodness', 'soundly', 'near', 'honorable', 'safe', 'in_effect', 'estimable', 'effective', 'secure', 'thoroughly', 'unspoiled', 'upright', 'respectable', 'practiced', 'dependable', 'sound', 'expert', 'trade_good', 'well', 'right', 'skilful', 'just', 'unspoilt', 'undecomposed', 'ripe', 'serious', 'honest', 'proficient', 'skillful', 'full', 'beneficial', 'dear', 'salutary', 'adept', 'commodity', 'in_force', 'good'}\n",
      "{'evil', 'evilness', 'badness', 'ill', 'bad'}\n"
     ]
    }
   ],
   "source": [
    "\n",
    "import nltk \n",
    "# nltk.download('wordnet')\n",
    "from nltk.corpus import wordnet \n",
    "synonyms = [] \n",
    "antonyms = [] \n",
    "  \n",
    "for syn in wordnet.synsets(\"good\"): \n",
    "    for l in syn.lemmas(): \n",
    "        synonyms.append(l.name()) \n",
    "        if l.antonyms(): \n",
    "            antonyms.append(l.antonyms()[0].name()) \n",
    "  \n",
    "print(set(synonyms)) \n",
    "print(set(antonyms)) \n"
   ]
  },
  {
   "cell_type": "code",
   "execution_count": 138,
   "metadata": {},
   "outputs": [],
   "source": []
  },
  {
   "cell_type": "code",
   "execution_count": 139,
   "metadata": {},
   "outputs": [
    {
     "data": {
      "text/plain": [
       "{'denied',\n",
       " 'deny',\n",
       " 'fail',\n",
       " 'failed',\n",
       " 'never',\n",
       " 'no',\n",
       " 'nobody',\n",
       " 'not',\n",
       " 'nothing',\n",
       " 'reject',\n",
       " 'rejected',\n",
       " 'without'}"
      ]
     },
     "execution_count": 139,
     "metadata": {},
     "output_type": "execute_result"
    }
   ],
   "source": []
  },
  {
   "cell_type": "code",
   "execution_count": null,
   "metadata": {},
   "outputs": [],
   "source": []
  }
 ],
 "metadata": {
  "kernelspec": {
   "display_name": "Python 3",
   "language": "python",
   "name": "python3"
  },
  "language_info": {
   "codemirror_mode": {
    "name": "ipython",
    "version": 3
   },
   "file_extension": ".py",
   "mimetype": "text/x-python",
   "name": "python",
   "nbconvert_exporter": "python",
   "pygments_lexer": "ipython3",
   "version": "3.7.3"
  }
 },
 "nbformat": 4,
 "nbformat_minor": 2
}
