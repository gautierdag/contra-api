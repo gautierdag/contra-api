{
 "cells": [
  {
   "cell_type": "code",
   "execution_count": 1,
   "metadata": {},
   "outputs": [],
   "source": [
    "import seaborn as sns\n",
    "import matplotlib.pyplot as plt\n",
    "import numpy as np\n",
    "\n",
    "from sklearn.model_selection import train_test_split, cross_val_score\n",
    "from sklearn.metrics import precision_recall_fscore_support\n",
    "\n",
    "from sklearn.linear_model import LogisticRegression\n",
    "from sklearn.ensemble import RandomForestClassifier\n",
    "from sklearn.neural_network import MLPClassifier\n",
    "\n",
    "from utils import *"
   ]
  },
  {
   "cell_type": "code",
   "execution_count": 2,
   "metadata": {},
   "outputs": [
    {
     "name": "stdout",
     "output_type": "stream",
     "text": [
      "CPU times: user 35.6 s, sys: 441 ms, total: 36.1 s\n",
      "Wall time: 36.7 s\n"
     ]
    }
   ],
   "source": [
    "%%time\n",
    "dataset = get_dataset()"
   ]
  },
  {
   "cell_type": "code",
   "execution_count": 3,
   "metadata": {},
   "outputs": [
    {
     "data": {
      "text/html": [
       "<div>\n",
       "<style scoped>\n",
       "    .dataframe tbody tr th:only-of-type {\n",
       "        vertical-align: middle;\n",
       "    }\n",
       "\n",
       "    .dataframe tbody tr th {\n",
       "        vertical-align: top;\n",
       "    }\n",
       "\n",
       "    .dataframe thead th {\n",
       "        text-align: right;\n",
       "    }\n",
       "</style>\n",
       "<table border=\"1\" class=\"dataframe\">\n",
       "  <thead>\n",
       "    <tr style=\"text-align: right;\">\n",
       "      <th></th>\n",
       "      <th>id</th>\n",
       "      <th>t</th>\n",
       "      <th>h</th>\n",
       "      <th>entailment</th>\n",
       "      <th>task</th>\n",
       "      <th>w_overlap</th>\n",
       "      <th>w_hyp_extra</th>\n",
       "      <th>w_jaccard</th>\n",
       "      <th>w_jaccard_s</th>\n",
       "      <th>ne_overlap</th>\n",
       "      <th>ne_hyp_extra</th>\n",
       "      <th>t_negations</th>\n",
       "      <th>h_negations</th>\n",
       "    </tr>\n",
       "  </thead>\n",
       "  <tbody>\n",
       "    <tr>\n",
       "      <th>0</th>\n",
       "      <td>3</td>\n",
       "      <td>ECB spokeswoman, Regina Schueller, declined to...</td>\n",
       "      <td>Regina Shueller works for Italy's La Repubblic...</td>\n",
       "      <td>CONTRADICTS</td>\n",
       "      <td>IE</td>\n",
       "      <td>5</td>\n",
       "      <td>2</td>\n",
       "      <td>0.172414</td>\n",
       "      <td>0.714286</td>\n",
       "      <td>2</td>\n",
       "      <td>1</td>\n",
       "      <td>0</td>\n",
       "      <td>0</td>\n",
       "    </tr>\n",
       "    <tr>\n",
       "      <th>1</th>\n",
       "      <td>4</td>\n",
       "      <td>Meanwhile, in an exclusive interview with a TI...</td>\n",
       "      <td>Ahmedinejad was attacked by the US, France, Br...</td>\n",
       "      <td>UNRELATED</td>\n",
       "      <td>IE</td>\n",
       "      <td>4</td>\n",
       "      <td>1</td>\n",
       "      <td>0.121212</td>\n",
       "      <td>0.800000</td>\n",
       "      <td>4</td>\n",
       "      <td>0</td>\n",
       "      <td>0</td>\n",
       "      <td>0</td>\n",
       "    </tr>\n",
       "    <tr>\n",
       "      <th>2</th>\n",
       "      <td>11</td>\n",
       "      <td>The chaotic situation unleashed in Bogota last...</td>\n",
       "      <td>Justice Carlos Valencia was killed on 28 July.</td>\n",
       "      <td>CONTRADICTS</td>\n",
       "      <td>IE</td>\n",
       "      <td>5</td>\n",
       "      <td>1</td>\n",
       "      <td>0.172414</td>\n",
       "      <td>0.833333</td>\n",
       "      <td>2</td>\n",
       "      <td>0</td>\n",
       "      <td>0</td>\n",
       "      <td>0</td>\n",
       "    </tr>\n",
       "    <tr>\n",
       "      <th>3</th>\n",
       "      <td>12</td>\n",
       "      <td>He met U.S. President, George W. Bush, in Wash...</td>\n",
       "      <td>Washington is part of London.</td>\n",
       "      <td>UNRELATED</td>\n",
       "      <td>IE</td>\n",
       "      <td>2</td>\n",
       "      <td>0</td>\n",
       "      <td>0.133333</td>\n",
       "      <td>1.000000</td>\n",
       "      <td>2</td>\n",
       "      <td>0</td>\n",
       "      <td>0</td>\n",
       "      <td>0</td>\n",
       "    </tr>\n",
       "    <tr>\n",
       "      <th>4</th>\n",
       "      <td>13</td>\n",
       "      <td>Sunday's earthquake was felt in the southern I...</td>\n",
       "      <td>The city of Madras is located in Southern India.</td>\n",
       "      <td>AGREE</td>\n",
       "      <td>IE</td>\n",
       "      <td>4</td>\n",
       "      <td>1</td>\n",
       "      <td>0.142857</td>\n",
       "      <td>0.800000</td>\n",
       "      <td>1</td>\n",
       "      <td>1</td>\n",
       "      <td>0</td>\n",
       "      <td>0</td>\n",
       "    </tr>\n",
       "  </tbody>\n",
       "</table>\n",
       "</div>"
      ],
      "text/plain": [
       "   id                                                  t  \\\n",
       "0   3  ECB spokeswoman, Regina Schueller, declined to...   \n",
       "1   4  Meanwhile, in an exclusive interview with a TI...   \n",
       "2  11  The chaotic situation unleashed in Bogota last...   \n",
       "3  12  He met U.S. President, George W. Bush, in Wash...   \n",
       "4  13  Sunday's earthquake was felt in the southern I...   \n",
       "\n",
       "                                                   h   entailment task  \\\n",
       "0  Regina Shueller works for Italy's La Repubblic...  CONTRADICTS   IE   \n",
       "1  Ahmedinejad was attacked by the US, France, Br...    UNRELATED   IE   \n",
       "2     Justice Carlos Valencia was killed on 28 July.  CONTRADICTS   IE   \n",
       "3                      Washington is part of London.    UNRELATED   IE   \n",
       "4   The city of Madras is located in Southern India.        AGREE   IE   \n",
       "\n",
       "   w_overlap  w_hyp_extra  w_jaccard  w_jaccard_s  ne_overlap  ne_hyp_extra  \\\n",
       "0          5            2   0.172414     0.714286           2             1   \n",
       "1          4            1   0.121212     0.800000           4             0   \n",
       "2          5            1   0.172414     0.833333           2             0   \n",
       "3          2            0   0.133333     1.000000           2             0   \n",
       "4          4            1   0.142857     0.800000           1             1   \n",
       "\n",
       "   t_negations  h_negations  \n",
       "0            0            0  \n",
       "1            0            0  \n",
       "2            0            0  \n",
       "3            0            0  \n",
       "4            0            0  "
      ]
     },
     "execution_count": 3,
     "metadata": {},
     "output_type": "execute_result"
    }
   ],
   "source": [
    "dataset.head()"
   ]
  },
  {
   "cell_type": "code",
   "execution_count": 4,
   "metadata": {},
   "outputs": [
    {
     "data": {
      "image/png": "[encoded data removed]",
      "text/plain": [
       "<Figure size 432x288 with 1 Axes>"
      ]
     },
     "metadata": {
      "needs_background": "light"
     },
     "output_type": "display_data"
    }
   ],
   "source": [
    "ax = dataset['entailment'].value_counts().plot(kind='bar')\n",
    "ax.set_title(\"Distribution of Labels\")\n",
    "plt.show()"
   ]
  },
  {
   "cell_type": "markdown",
   "metadata": {},
   "source": [
    "### Test Selected Classifier "
   ]
  },
  {
   "cell_type": "code",
   "execution_count": 60,
   "metadata": {},
   "outputs": [],
   "source": [
    "np.random.seed(42)\n",
    "train, test = train_test_split(dataset, stratify=dataset['entailment'], test_size=0.5)"
   ]
  },
  {
   "cell_type": "code",
   "execution_count": 61,
   "metadata": {},
   "outputs": [
    {
     "data": {
      "text/plain": [
       "<function sklearn.model_selection._split.train_test_split(*arrays, **options)>"
      ]
     },
     "execution_count": 61,
     "metadata": {},
     "output_type": "execute_result"
    }
   ],
   "source": [
    "train_test_split"
   ]
  },
  {
   "cell_type": "code",
   "execution_count": 62,
   "metadata": {},
   "outputs": [
    {
     "name": "stdout",
     "output_type": "stream",
     "text": [
      "Precision: 0.548131218849112 \tRecall: 0.5067236463809167\tF1-Score: 0.5033417379607908 \tMean Accuracy: 0.5595\n"
     ]
    }
   ],
   "source": [
    "clf = LogisticRegression(random_state=0, multi_class='ovr', solver='lbfgs', max_iter=1000)\n",
    "\n",
    "clf.fit(train[feat_cols], train['entailment'])  \n",
    "y_pred = clf.predict(test[feat_cols])\n",
    "precision, recall, fscore, _ = precision_recall_fscore_support(test['entailment'], y_pred)\n",
    "print(\"Precision: {} \\tRecall: {}\\tF1-Score: {} \\tMean Accuracy: {}\".format(precision.mean(), \n",
    "                                                                            recall.mean(), \n",
    "                                                                            fscore.mean(), \n",
    "                                                                            round(clf.score(test[feat_cols],\n",
    "                                                                                            test['entailment']), 4)))"
   ]
  },
  {
   "cell_type": "markdown",
   "metadata": {},
   "source": [
    "### Plot Confusion Matrix"
   ]
  },
  {
   "cell_type": "code",
   "execution_count": 63,
   "metadata": {},
   "outputs": [],
   "source": [
    "from sklearn.metrics import confusion_matrix\n",
    "from sklearn.utils.multiclass import unique_labels\n",
    "\n",
    "def plot_confusion_matrix(\n",
    "    y_true, y_pred, classes, normalize=False, title=None, cmap=plt.cm.Blues\n",
    "):\n",
    "    \"\"\"\n",
    "    Taken from https://scikit-learn.org/stable/auto_examples/model_selection/\n",
    "    plot_confusion_matrix.html#sphx-glr-auto-examples-model-selection-plot-confusion-matrix-py\n",
    "    This function prints and plots the confusion matrix.\n",
    "    Normalization can be applied by setting `normalize=True`.\n",
    "    \"\"\"\n",
    "    if not title:\n",
    "        title = \"Confusion matrix\"\n",
    "\n",
    "    # Compute confusion matrix\n",
    "    cm = confusion_matrix(y_true, y_pred)\n",
    "    # Only use the labels that appear in the data\n",
    "    if normalize:\n",
    "        cm = cm.astype(\"float\") / cm.sum(axis=1)[:, np.newaxis]\n",
    "\n",
    "    fig, ax = plt.subplots()\n",
    "    im = ax.imshow(cm, interpolation=\"nearest\", cmap=cmap)\n",
    "    ax.figure.colorbar(im, ax=ax)\n",
    "    # We want to show all ticks...\n",
    "    ax.set(\n",
    "        xticks=np.arange(cm.shape[1]),\n",
    "        yticks=np.arange(cm.shape[0]),\n",
    "        # ... and label them with the respective list entries\n",
    "        xticklabels=classes,\n",
    "        yticklabels=classes,\n",
    "        title=title,\n",
    "        ylabel=\"True label\",\n",
    "        xlabel=\"Predicted label\",\n",
    "    )\n",
    "\n",
    "    # Rotate the tick labels and set their alignment.\n",
    "    plt.setp(ax.get_xticklabels(), rotation=45, ha=\"right\", rotation_mode=\"anchor\")\n",
    "\n",
    "    # Loop over data dimensions and create text annotations.\n",
    "    fmt = \".2f\" if normalize else \"d\"\n",
    "    thresh = cm.max() / 2.0\n",
    "    for i in range(cm.shape[0]):\n",
    "        for j in range(cm.shape[1]):\n",
    "            ax.text(\n",
    "                j,\n",
    "                i,\n",
    "                format(cm[i, j], fmt),\n",
    "                ha=\"center\",\n",
    "                va=\"center\",\n",
    "                color=\"white\" if cm[i, j] > thresh else \"black\",\n",
    "            )\n",
    "    fig.tight_layout()\n",
    "    return ax\n"
   ]
  },
  {
   "cell_type": "code",
   "execution_count": 64,
   "metadata": {},
   "outputs": [
    {
     "data": {
      "image/png": "[encoded data removed]",
      "text/plain": [
       "<Figure size 432x288 with 2 Axes>"
      ]
     },
     "metadata": {
      "needs_background": "light"
     },
     "output_type": "display_data"
    }
   ],
   "source": [
    "a = plot_confusion_matrix(test['entailment'], y_pred, clf.classes_, normalize=False)"
   ]
  },
  {
   "cell_type": "markdown",
   "metadata": {},
   "source": [
    "### Testing different classifiers"
   ]
  },
  {
   "cell_type": "code",
   "execution_count": 78,
   "metadata": {},
   "outputs": [],
   "source": [
    "models = [\n",
    "    RandomForestClassifier(n_estimators=200, max_depth=3, random_state=0),\n",
    "    LogisticRegression(random_state=0, multi_class='ovr', solver='lbfgs', max_iter=1000),\n",
    "    MLPClassifier(hidden_layer_sizes=(20, 10), max_iter=1000, random_state=0)\n",
    "]\n",
    "CV = 10\n",
    "cv_df = pd.DataFrame(index=range(CV * len(models)))\n",
    "entries = []\n",
    "for model in models:\n",
    "    model_name = model.__class__.__name__\n",
    "    accuracies = cross_val_score(model, train[feat_cols], train['entailment'], scoring='accuracy', cv=CV)\n",
    "    for fold_idx, accuracy in enumerate(accuracies):\n",
    "        entries.append((model_name, fold_idx, accuracy))\n",
    "\n",
    "cv_df = pd.DataFrame(entries, columns=['model_name', 'fold_idx', 'accuracy'])"
   ]
  },
  {
   "cell_type": "code",
   "execution_count": 79,
   "metadata": {},
   "outputs": [
    {
     "data": {
      "image/png": "[encoded data removed]",
      "text/plain": [
       "<Figure size 828x396 with 1 Axes>"
      ]
     },
     "metadata": {
      "needs_background": "light"
     },
     "output_type": "display_data"
    }
   ],
   "source": [
    "plt.rcParams.update({'font.size': 15})\n",
    "\n",
    "sns.boxplot(x='model_name', y='accuracy', data=cv_df)\n",
    "sns.stripplot(x='model_name', y='accuracy', data=cv_df, \n",
    "              size=8, jitter=True, edgecolor=\"gray\", linewidth=2)\n",
    "\n",
    "fig = plt.gcf()\n",
    "fig.set_size_inches(11.5, 5.5)\n",
    "plt.show()"
   ]
  },
  {
   "cell_type": "markdown",
   "metadata": {},
   "source": [
    "### Test Interface"
   ]
  },
  {
   "cell_type": "code",
   "execution_count": 109,
   "metadata": {},
   "outputs": [
    {
     "data": {
      "text/plain": [
       "{'prediction': 'UNRELATED', 'confidence': 0.798}"
      ]
     },
     "execution_count": 109,
     "metadata": {},
     "output_type": "execute_result"
    }
   ],
   "source": [
    "import requests\n",
    "\n",
    "url = 'http://127.0.0.1:5000/'\n",
    "\n",
    "params ={'text': 'The car ran over the brick road', \n",
    "         'hyp': 'I do not like Google'}\n",
    "response = requests.get(url, params)\n",
    "response.json()\n"
   ]
  },
  {
   "cell_type": "code",
   "execution_count": 101,
   "metadata": {},
   "outputs": [
    {
     "data": {
      "text/plain": [
       "{'prediction': 'AGREE', 'confidence': 0.531}"
      ]
     },
     "execution_count": 101,
     "metadata": {},
     "output_type": "execute_result"
    }
   ],
   "source": [
    "params ={'text': 'My car drove on the brick road', \n",
    "         'hyp': 'I ran over the brick road with the car'}\n",
    "response = requests.get(url, params)\n",
    "response.json()"
   ]
  },
  {
   "cell_type": "code",
   "execution_count": 107,
   "metadata": {},
   "outputs": [
    {
     "data": {
      "text/plain": [
       "{'prediction': 'CONTRADICTS', 'confidence': 0.579}"
      ]
     },
     "execution_count": 107,
     "metadata": {},
     "output_type": "execute_result"
    }
   ],
   "source": [
    "params ={'text': 'I wished I went base-jumping because I really love heights', \n",
    "         'hyp': 'I would never go base-jumping because I do not like heights'}\n",
    "response = requests.get(url, params)\n",
    "response.json()"
   ]
  }
 ],
 "metadata": {
  "kernelspec": {
   "display_name": "Python 3",
   "language": "python",
   "name": "python3"
  },
  "language_info": {
   "codemirror_mode": {
    "name": "ipython",
    "version": 3
   },
   "file_extension": ".py",
   "mimetype": "text/x-python",
   "name": "python",
   "nbconvert_exporter": "python",
   "pygments_lexer": "ipython3",
   "version": "3.7.3"
  }
 },
 "nbformat": 4,
 "nbformat_minor": 2
}
